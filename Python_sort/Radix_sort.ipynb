{
 "cells": [
  {
   "cell_type": "code",
   "execution_count": 59,
   "metadata": {
    "collapsed": false
   },
   "outputs": [],
   "source": [
    "def radix_sort(arr):    # 基数排序\n",
    "    if len(arr) <= 1:\n",
    "        return 0\n",
    "\n",
    "    ndict = {}    # 用来存放数据\n",
    "    for i in range(10):\n",
    "        ndict[i] = []\n",
    "    \n",
    "    isAllZero = 0\n",
    "    radix_round = -1\n",
    "    while True:\n",
    "        radix_round = radix_round + 1\n",
    "        div = 1\n",
    "        for i in range(radix_round):\n",
    "            div = div * 10\n",
    "        if max(arr)/div == 0:    # 如果数组中最大的值的位数比radix_round小，则排序完成\n",
    "            break\n",
    "            \n",
    "        index = [(nu/div) % 10 for nu in arr]    # index存放原始数组相应位置上的，数据的radix_round位的数字\n",
    "        \n",
    "        for i in range(len(index)):\n",
    "            ndict[index[i]].append(arr[i])\n",
    "        del arr[:]\n",
    "        for i in range(10):\n",
    "            for num in ndict[i]:\n",
    "                arr.append(num)\n",
    "            del ndict[i][:]\n",
    "    return arr"
   ]
  },
  {
   "cell_type": "code",
   "execution_count": 62,
   "metadata": {
    "collapsed": false
   },
   "outputs": [
    {
     "name": "stdout",
     "output_type": "stream",
     "text": [
      "[3221, 1, 10, 9680, 577, 9420, 7, 5622, 4793, 2030, 3138, 82, 2599, 743, 4127]\n",
      "[1, 7, 10, 82, 577, 743, 2030, 2599, 3138, 3221, 4127, 4793, 5622, 9420, 9680]\n",
      "[10, 240, 340, 1650]\n"
     ]
    }
   ],
   "source": [
    "A = [3221, 1, 10, 9680, 577, 9420, 7, 5622, 4793, 2030, 3138, 82, 2599, 743, 4127]\n",
    "print A\n",
    "print radix_sort(A)\n",
    "\n",
    "B = [1650,340,240,10]\n",
    "print radix_sort(B)"
   ]
  },
  {
   "cell_type": "code",
   "execution_count": 46,
   "metadata": {
    "collapsed": false
   },
   "outputs": [
    {
     "name": "stdout",
     "output_type": "stream",
     "text": [
      "{1: [2], 3: [4, 3]}\n"
     ]
    }
   ],
   "source": [
    "a = {1:[2],3:[4]}\n",
    "a[3].append(3)\n",
    "print a"
   ]
  }
 ],
 "metadata": {
  "kernelspec": {
   "display_name": "Python [default]",
   "language": "python",
   "name": "python2"
  },
  "language_info": {
   "codemirror_mode": {
    "name": "ipython",
    "version": 2
   },
   "file_extension": ".py",
   "mimetype": "text/x-python",
   "name": "python",
   "nbconvert_exporter": "python",
   "pygments_lexer": "ipython2",
   "version": "2.7.12"
  }
 },
 "nbformat": 4,
 "nbformat_minor": 1
}
