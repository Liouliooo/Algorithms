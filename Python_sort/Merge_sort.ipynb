{
 "cells": [
  {
   "cell_type": "markdown",
   "metadata": {},
   "source": [
    "# 归并排序"
   ]
  },
  {
   "cell_type": "code",
   "execution_count": 24,
   "metadata": {
    "collapsed": true
   },
   "outputs": [],
   "source": [
    "def merge_sort_1(arr):    # version 1,version 2用C++写\n",
    "    if len(arr)<=1:\n",
    "        return arr\n",
    "    mid = len(arr)/2\n",
    "    left = merge_sort_1(arr[:mid])\n",
    "    right = merge_sort_1(arr[mid:])\n",
    "    return merge(left,right)\n",
    "\n",
    "def merge(left,right):\n",
    "    re = []\n",
    "    i,j = 0,0\n",
    "    while i < len(left) and j < len(right):\n",
    "        if left[i] <= right[j]:\n",
    "            re.append(left[i])\n",
    "            i += 1\n",
    "        else:\n",
    "            re.append(right[j])\n",
    "            j += 1\n",
    "        \n",
    "    if i == len(left):\n",
    "        re = re + right[j:]\n",
    "    if j == len(right):\n",
    "        re = re + left[i:]\n",
    "    return re"
   ]
  },
  {
   "cell_type": "code",
   "execution_count": 25,
   "metadata": {
    "collapsed": false
   },
   "outputs": [
    {
     "name": "stdout",
     "output_type": "stream",
     "text": [
      "[12, 3, 43, 56, 3, 4, 56, 89, 12, 23, 34, 100]\n",
      "[3, 3, 4, 12, 12, 23, 34, 43, 56, 56, 89, 100]\n"
     ]
    }
   ],
   "source": [
    "A = [12,3,43,56,3,4,56,89,12,23,34,100]\n",
    "print A\n",
    "print merge_sort_1(A)"
   ]
  }
 ],
 "metadata": {
  "anaconda-cloud": {},
  "kernelspec": {
   "display_name": "Python [default]",
   "language": "python",
   "name": "python2"
  },
  "language_info": {
   "codemirror_mode": {
    "name": "ipython",
    "version": 2
   },
   "file_extension": ".py",
   "mimetype": "text/x-python",
   "name": "python",
   "nbconvert_exporter": "python",
   "pygments_lexer": "ipython2",
   "version": "2.7.12"
  }
 },
 "nbformat": 4,
 "nbformat_minor": 1
}
