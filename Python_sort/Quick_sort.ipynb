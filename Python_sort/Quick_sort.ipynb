{
 "cells": [
  {
   "cell_type": "markdown",
   "metadata": {},
   "source": [
    "# 快速排序"
   ]
  },
  {
   "cell_type": "code",
   "execution_count": 7,
   "metadata": {
    "collapsed": false
   },
   "outputs": [],
   "source": [
    "def quick_sort_1(A):    # 版本一\n",
    "    if len(A) <= 1:\n",
    "        return A\n",
    "    else:\n",
    "        viot = A[0]\n",
    "        return quick_sort_1([i for i in A[1:] if i<=viot]) + [viot] + \\\n",
    "               quick_sort_1([i for i in A[1:] if i>viot])"
   ]
  },
  {
   "cell_type": "code",
   "execution_count": 80,
   "metadata": {
    "collapsed": true
   },
   "outputs": [],
   "source": [
    "def quick_sort_2(A):    # 版本二，时间空间复杂度同上\n",
    "    if len(A) <= 1:\n",
    "        return A\n",
    "    else:\n",
    "        viot = A[0]\n",
    "        less = [i for i in A[1:] if i<viot]\n",
    "        more = [i for i in A[1:] if i>= viot]\n",
    "    return quick_sort_2(less) + [viot] + quick_sort_2(more)"
   ]
  },
  {
   "cell_type": "code",
   "execution_count": 93,
   "metadata": {
    "collapsed": false
   },
   "outputs": [],
   "source": [
    "def quick_sort_3(A):    # 版本三，空间复杂度较低\n",
    "    if len(A) <= 1:\n",
    "        return A\n",
    "    low = 0\n",
    "    high = len(A) - 1\n",
    "    viot = A[0]\n",
    "    while low < high:\n",
    "        while A[high]>=viot and low < high:\n",
    "            high -= 1\n",
    "        A[low], A[high] = A[high], viot\n",
    "        \n",
    "        while A[low]<viot and low < high:\n",
    "            low += 1\n",
    "        A[high], A[low] = A[low], viot\n",
    "        \n",
    "    return quick_sort_3(A[0:low]) + [A[low]] + quick_sort_3(A[low+1:])"
   ]
  },
  {
   "cell_type": "code",
   "execution_count": 94,
   "metadata": {
    "collapsed": false
   },
   "outputs": [
    {
     "name": "stdout",
     "output_type": "stream",
     "text": [
      "[3, 3, 4, 12, 12, 23, 34, 43, 56, 56, 89, 100]\n",
      "[3, 3, 4, 12, 12, 23, 34, 43, 56, 56, 89, 100]\n",
      "[3, 3, 4, 12, 12, 23, 34, 43, 56, 56, 89, 100]\n"
     ]
    }
   ],
   "source": [
    "A = [12,3,43,56,3,4,56,89,12,23,34,100]\n",
    "\n",
    "print quick_sort_1(A)\n",
    "print quick_sort_2(A)\n",
    "print quick_sort_3(A)"
   ]
  }
 ],
 "metadata": {
  "anaconda-cloud": {},
  "kernelspec": {
   "display_name": "Python [default]",
   "language": "python",
   "name": "python2"
  },
  "language_info": {
   "codemirror_mode": {
    "name": "ipython",
    "version": 2
   },
   "file_extension": ".py",
   "mimetype": "text/x-python",
   "name": "python",
   "nbconvert_exporter": "python",
   "pygments_lexer": "ipython2",
   "version": "2.7.12"
  }
 },
 "nbformat": 4,
 "nbformat_minor": 1
}
