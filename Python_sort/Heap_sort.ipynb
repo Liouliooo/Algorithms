{
 "cells": [
  {
   "cell_type": "code",
   "execution_count": 59,
   "metadata": {
    "collapsed": true
   },
   "outputs": [],
   "source": [
    "def heap_ajust(arr,i,size):    # 调整堆。从节点i开始，对应着一次调整过程\n",
    "    m = i\n",
    "    while True:     # 大顶堆\n",
    "        lchild = 2*i+1            \n",
    "        rchild = 2*i+2\n",
    "        if lchild < size and arr[lchild] > arr[m]:\n",
    "            m = lchild\n",
    "        if rchild < size and arr[rchild] > arr[m]:\n",
    "            m = rchild\n",
    "        \n",
    "        if m != i:\n",
    "            arr[m],arr[i] = arr[i],arr[m]\n",
    "            i = m\n",
    "        else:\n",
    "            break    # 对应着一次调整过程\n",
    "            \n",
    "def build_heap(arr,size):    # 建立大顶推\n",
    "    i = size/2\n",
    "    while i >= 0:\n",
    "        heap_ajust(arr,i,size)\n",
    "        i -= 1\n",
    "    \n",
    "def heap_sort(arr):    # 堆排序\n",
    "    if len(arr) <= 1:\n",
    "        return arr\n",
    "    le = len(arr)\n",
    "    \n",
    "    build_heap(arr,le)    # 建立大顶堆\n",
    "    \n",
    "    while le > 0:    # 虽然下标从0开始，但是堆调整到最后一位之后，就剩下一个最小值\n",
    "        arr[le-1], arr[0] = arr[0], arr[le-1]\n",
    "        le = le - 1\n",
    "        heap_ajust(arr,0,le)\n",
    "    return arr"
   ]
  },
  {
   "cell_type": "code",
   "execution_count": 60,
   "metadata": {
    "collapsed": false
   },
   "outputs": [
    {
     "name": "stdout",
     "output_type": "stream",
     "text": [
      "[4, 6, 5, 2, 0, 9, 1, 19, 18, 14, 17, 3, 13, 16, 12, 10, 7, 15, 8, 11]\n",
      "[0, 1, 2, 3, 4, 5, 6, 7, 8, 9, 10, 11, 12, 13, 14, 15, 16, 17, 18, 19]\n"
     ]
    }
   ],
   "source": [
    "import random\n",
    "A = range(20)\n",
    "random.shuffle(A)\n",
    "print A\n",
    "print heap_sort(A)\n"
   ]
  }
 ],
 "metadata": {
  "anaconda-cloud": {},
  "kernelspec": {
   "display_name": "Python [default]",
   "language": "python",
   "name": "python2"
  },
  "language_info": {
   "codemirror_mode": {
    "name": "ipython",
    "version": 2
   },
   "file_extension": ".py",
   "mimetype": "text/x-python",
   "name": "python",
   "nbconvert_exporter": "python",
   "pygments_lexer": "ipython2",
   "version": "2.7.12"
  }
 },
 "nbformat": 4,
 "nbformat_minor": 1
}
