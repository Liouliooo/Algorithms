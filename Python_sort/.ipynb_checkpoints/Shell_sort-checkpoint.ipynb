{
 "cells": [
  {
   "cell_type": "code",
   "execution_count": 89,
   "metadata": {
    "collapsed": false
   },
   "outputs": [],
   "source": [
    "def shell_sort(arr):\n",
    "    if len(arr) <= 1:\n",
    "        return arr\n",
    "    inc = [19,13,9,7,5,1]\n",
    "    count = 0   ### 计算比较和移动总的次数\n",
    "    for i in inc:    # c是增量\n",
    "        for j in range(i,len(arr),i):    # j从第二个元素位置开始\n",
    "            k = j - i\n",
    "            temp = arr[j]\n",
    "            while arr[k]>temp and k >= 0:\n",
    "                k = k - i\n",
    "                count += 1 ###\n",
    "            for x in range(j,k,-i):\n",
    "                arr[x] = arr[x - i]\n",
    "                count += 1 ###\n",
    "            arr[x] = temp \n",
    "    print count ###\n",
    "    return arr"
   ]
  },
  {
   "cell_type": "code",
   "execution_count": 92,
   "metadata": {
    "collapsed": false
   },
   "outputs": [
    {
     "name": "stdout",
     "output_type": "stream",
     "text": [
      "[12, 3, 43, 56, 3, 4, 56, 89, 12, 23, 34, 100]\n",
      "53\n",
      "[3, 3, 4, 12, 12, 23, 34, 43, 56, 56, 89, 100]\n"
     ]
    }
   ],
   "source": [
    "A = [12,3,43,56,3,4,56,89,12,23,34,100]\n",
    "print A\n",
    "print shell_sort(A)"
   ]
  },
  {
   "cell_type": "code",
   "execution_count": 91,
   "metadata": {
    "collapsed": false
   },
   "outputs": [
    {
     "name": "stdout",
     "output_type": "stream",
     "text": [
      "351503\n",
      "\n"
     ]
    }
   ],
   "source": [
    "import random\n",
    "c = range(1000)\n",
    "random.shuffle(c)\n",
    "shell_sort(c)\n",
    "print "
   ]
  }
 ],
 "metadata": {
  "anaconda-cloud": {},
  "kernelspec": {
   "display_name": "Python [default]",
   "language": "python",
   "name": "python2"
  },
  "language_info": {
   "codemirror_mode": {
    "name": "ipython",
    "version": 2
   },
   "file_extension": ".py",
   "mimetype": "text/x-python",
   "name": "python",
   "nbconvert_exporter": "python",
   "pygments_lexer": "ipython2",
   "version": "2.7.12"
  }
 },
 "nbformat": 4,
 "nbformat_minor": 1
}
