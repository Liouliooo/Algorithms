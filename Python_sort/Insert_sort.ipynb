{
 "cells": [
  {
   "cell_type": "code",
   "execution_count": 52,
   "metadata": {
    "collapsed": true
   },
   "outputs": [],
   "source": [
    "def insert_sort(A):\n",
    "    k = 0\n",
    "    for i in range(1,len(A)):\n",
    "        temp = A[i]\n",
    "        j = i-1\n",
    "        while A[j]>temp and j>=0:\n",
    "            j -= 1\n",
    "        for k in range(i,j,-1):\n",
    "            A[k] = A[k-1]\n",
    "        A[k] = temp\n",
    "    return A"
   ]
  },
  {
   "cell_type": "code",
   "execution_count": 53,
   "metadata": {
    "collapsed": false,
    "scrolled": true
   },
   "outputs": [
    {
     "name": "stdout",
     "output_type": "stream",
     "text": [
      "[12, 3, 43, 56, 3, 4, 56, 89, 12, 23, 34, 100]\n",
      "[3, 3, 4, 12, 12, 23, 34, 43, 56, 56, 89, 100]\n",
      "[1, 12]\n"
     ]
    }
   ],
   "source": [
    "A = [12,3,43,56,3,4,56,89,12,23,34,100]\n",
    "B = [1,12]\n",
    "print A\n",
    "print insert_sort(A)\n",
    "print insert_sort(B)"
   ]
  }
 ],
 "metadata": {
  "anaconda-cloud": {},
  "kernelspec": {
   "display_name": "Python [default]",
   "language": "python",
   "name": "python2"
  },
  "language_info": {
   "codemirror_mode": {
    "name": "ipython",
    "version": 2
   },
   "file_extension": ".py",
   "mimetype": "text/x-python",
   "name": "python",
   "nbconvert_exporter": "python",
   "pygments_lexer": "ipython2",
   "version": "2.7.12"
  }
 },
 "nbformat": 4,
 "nbformat_minor": 1
}
