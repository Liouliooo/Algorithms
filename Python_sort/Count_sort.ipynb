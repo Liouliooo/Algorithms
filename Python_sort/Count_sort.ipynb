{
 "cells": [
  {
   "cell_type": "code",
   "execution_count": 23,
   "metadata": {
    "collapsed": false
   },
   "outputs": [],
   "source": [
    "def count_sort(arr):    # 计数排序，时间复杂度是O(n+k),k是数字的大小范围。空间复杂度O(n+k)\n",
    "    le = len(arr)\n",
    "    k = max(arr)+1\n",
    "    if le <= 1:\n",
    "        return arr\n",
    "    count = [0] * k    # 假设arr中的数据大小为0到99\n",
    "    for i in range(le):\n",
    "        count[arr[i]] += 1\n",
    "    for i in range(1,k):\n",
    "        count[i] = count[i] + count[i-1]    # 记录不必元素j大的元素的个数\n",
    "    \n",
    "    re = [0] * le\n",
    "    for i in range(le-1,-1,-1):    # 倒着写，算法是稳定的\n",
    "        count[arr[i]] = count[arr[i]] - 1\n",
    "        re[count[arr[i]]] = arr[i]\n",
    "    \n",
    "    return re"
   ]
  },
  {
   "cell_type": "code",
   "execution_count": 27,
   "metadata": {
    "collapsed": false
   },
   "outputs": [
    {
     "name": "stdout",
     "output_type": "stream",
     "text": [
      "[16, 18, 23, 20, 13, 8, 22, 26, 24, 5, 1, 14, 4, 21, 29, 7, 15, 12, 9, 25, 3, 6, 10, 11, 27, 17, 2, 0, 28, 19]\n",
      "\n",
      "[0, 1, 2, 3, 4, 5, 6, 7, 8, 9, 10, 11, 12, 13, 14, 15, 16, 17, 18, 19, 20, 21, 22, 23, 24, 25, 26, 27, 28, 29]\n",
      "[0, 1, 2, 3, 4, 5, 6, 7, 8, 9, 10, 11, 12, 13, 14, 15, 16, 17, 18, 19, 20, 21, 22, 23, 24, 25, 26, 27, 28, 29]\n"
     ]
    }
   ],
   "source": [
    "import random\n",
    "A = range(30)\n",
    "random.shuffle(A)\n",
    "print A\n",
    "print \n",
    "print range(30)\n",
    "print count_sort(A)"
   ]
  }
 ],
 "metadata": {
  "kernelspec": {
   "display_name": "Python [default]",
   "language": "python",
   "name": "python2"
  },
  "language_info": {
   "codemirror_mode": {
    "name": "ipython",
    "version": 2
   },
   "file_extension": ".py",
   "mimetype": "text/x-python",
   "name": "python",
   "nbconvert_exporter": "python",
   "pygments_lexer": "ipython2",
   "version": "2.7.12"
  }
 },
 "nbformat": 4,
 "nbformat_minor": 1
}
