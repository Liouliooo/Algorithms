{
 "cells": [
  {
   "cell_type": "code",
   "execution_count": 76,
   "metadata": {
    "collapsed": false,
    "scrolled": true
   },
   "outputs": [
    {
     "name": "stdout",
     "output_type": "stream",
     "text": [
      "aaadfa\n"
     ]
    }
   ],
   "source": [
    "# 求解最长公共子序列\n",
    "def LongestSubsequence(s,sr):\n",
    "    if len(s)==0 or len(sr)==0:\n",
    "        return \"\"\n",
    "    # 动态规划求解最长公共子序列，The longest common subsequence。\n",
    "    longest = [[0]*(len(sr)+1) for i in range(len(s)+1)]    # 保持最长公共子序列的最大长度\n",
    "    state = [[0]*(len(sr)+1) for i in range(len(s)+1)]    # 保持转移状态\n",
    "\n",
    "    for i in range(1,len(s)+1):\n",
    "        for j in range(1,len(sr)+1):\n",
    "            if s[i-1] == sr[j-1]:\n",
    "                state[i][j] = 1    # 末尾字符相等，则状态为1\n",
    "                longest[i][j] = longest[i-1][j-1]+1\n",
    "            else:\n",
    "                if longest[i-1][j] >= longest[i][j-1]:\n",
    "                    state[i][j] = -1    # 从上侧转化而来，则状态为-1\n",
    "                    longest[i][j] = longest[i-1][j]\n",
    "                else:\n",
    "                    state[i][j] = -2    # 从左侧转化而来，则状态为-2\n",
    "                    longest[i][j] = longest[i][j-1]\n",
    "                \n",
    "    # 从前向后输出最长公共子序列,此时，i和j保留的依然是最大值len(s)和len(sr)\n",
    "    re = \"\"\n",
    "    while i>0 and j>0:    # 回溯法，找到最长公共子序列\n",
    "        if state[i][j] == -1:    # 从上侧转化而来\n",
    "            i -= 1\n",
    "        elif state[i][j] == -2:    # 从左侧转化而来\n",
    "            j -= 1\n",
    "        elif state[i][j] == 1:    # 从左上侧转化而来\n",
    "            re = s[i-1] + re    # 字符串直接输出正确的顺序，如果写成：re += s[i-1]则输出的是最大公共子序列的逆序\n",
    "            i -= 1\n",
    "            j -= 1\n",
    "        else:\n",
    "            pass\n",
    "    return re\n",
    "if __name__==\"__main__\":\n",
    "    result = LongestSubsequence(\"aaaaasdfabcd\",\"saasadfkda\") \n",
    "    print result"
   ]
  }
 ],
 "metadata": {
  "kernelspec": {
   "display_name": "Python 2",
   "language": "python",
   "name": "python2"
  },
  "language_info": {
   "codemirror_mode": {
    "name": "ipython",
    "version": 2
   },
   "file_extension": ".py",
   "mimetype": "text/x-python",
   "name": "python",
   "nbconvert_exporter": "python",
   "pygments_lexer": "ipython2",
   "version": "2.7.10"
  }
 },
 "nbformat": 4,
 "nbformat_minor": 0
}
